{
 "cells": [
  {
   "cell_type": "markdown",
   "id": "0f9e1bf7",
   "metadata": {},
   "source": [
    "# Functions assignment\n"
   ]
  },
  {
   "cell_type": "code",
   "execution_count": 11,
   "id": "a08916ed",
   "metadata": {},
   "outputs": [
    {
     "name": "stdout",
     "output_type": "stream",
     "text": [
      "Enter the no : 753\n",
      "3\n",
      "35\n",
      "357\n"
     ]
    }
   ],
   "source": [
    "#Write a function to reverse a string. \n",
    "# Sample String : \"1234abcd\"\n",
    "#Expected Output : \"dcba4321\"\n",
    "def rev():\n",
    "    re = 0\n",
    "    n = int(input(\"Enter the no : \"))\n",
    "    while n>0:\n",
    "        re = (re*10)+(n%10)\n",
    "        n = n//10\n",
    "        print(re)\n",
    "rev()"
   ]
  },
  {
   "cell_type": "code",
   "execution_count": 23,
   "id": "c4db7408",
   "metadata": {},
   "outputs": [
    {
     "name": "stdout",
     "output_type": "stream",
     "text": [
      "Even no are :  2 4 6 8 "
     ]
    }
   ],
   "source": [
    "#Write a function to print the even numbers from a given list. #Sample List : [1, 2, 3, 4, 5, 6, 7, 8, 9]\n",
    "\n",
    "l = [1, 2, 3, 4, 5, 6, 7, 8, 9]\n",
    "def even():\n",
    "    for i in l:\n",
    "        if i%2==0:\n",
    "            print(i,end=\" \")\n",
    "print(\"Even no are : \",end=\" \")\n",
    "even()\n"
   ]
  },
  {
   "cell_type": "code",
   "execution_count": 27,
   "id": "9a74bc83",
   "metadata": {},
   "outputs": [
    {
     "name": "stdout",
     "output_type": "stream",
     "text": [
      "Enter te string  : aeiomm\n",
      "Vowels are 4\n",
      "Componen are 2\n"
     ]
    }
   ],
   "source": [
    "#Write a function to display count and display vowels and consonants in the string entered by user.\n",
    "def check():\n",
    "    a = input(\"Enter te string  : \")\n",
    "    v = 0\n",
    "    c = 0\n",
    "    for i in a:\n",
    "        if i in \"aeiou\":\n",
    "            v = v+1\n",
    "        else:\n",
    "            c = c+1\n",
    "    print(\"Vowels are\",v)\n",
    "    print(\"Componen are\",c)\n",
    "    \n",
    "check()"
   ]
  },
  {
   "cell_type": "code",
   "execution_count": 32,
   "id": "03a7e802",
   "metadata": {},
   "outputs": [
    {
     "name": "stdout",
     "output_type": "stream",
     "text": [
      "Enter the no : 3\n",
      "Enter the no : 3\n",
      "27\n"
     ]
    }
   ],
   "source": [
    "#Q.4 Write a function to find the power of a number using function.\n",
    "def power():\n",
    "    p = 0\n",
    "    n = int(input(\"Enter the no : \"))\n",
    "    po = int(input(\"Enter the no : \"))\n",
    "    p = n**po\n",
    "    print(p)\n",
    "power()\n",
    "    "
   ]
  },
  {
   "cell_type": "code",
   "execution_count": 34,
   "id": "8e4925bb",
   "metadata": {},
   "outputs": [
    {
     "name": "stdout",
     "output_type": "stream",
     "text": [
      "Enter the no : 4\n",
      "Enter the no : 2\n",
      "The add and subtract are :   (6, 2)\n"
     ]
    }
   ],
   "source": [
    "#Q.5 Write a function name calculation which accepts two variables and calculate\n",
    "#addition and subtraction. Also it returns both addition and subtraction result in a single return call.\n",
    "def cal(a,b):\n",
    "    add = a+b\n",
    "    sub = a-b\n",
    "    return add,sub\n",
    "a = int(input(\"Enter the no : \"))\n",
    "b = int(input(\"Enter the no : \"))\n",
    "c = cal(a,b)\n",
    "print(\"The add and subtract are :  \",c)"
   ]
  },
  {
   "cell_type": "code",
   "execution_count": 36,
   "id": "a42bdb6a",
   "metadata": {},
   "outputs": [
    {
     "name": "stdout",
     "output_type": "stream",
     "text": [
      "Enter first number: 45\n",
      "Enter second number: 25\n",
      "Enter Third number: 85\n",
      "The max is :   85\n"
     ]
    }
   ],
   "source": [
    "#Write a function which computes maximum of three numbers \n",
    "def f():\n",
    "    if n1>=n2 and n1>=n3:\n",
    "        l=n1\n",
    "    elif n2>=n1 and n2>=n3:\n",
    "        l=n2\n",
    "    else:\n",
    "        l=n3\n",
    "    return l\n",
    "n1=int(input(\"Enter first number: \"));\n",
    "n2=int(input(\"Enter second number: \"));\n",
    "n3=int(input(\"Enter Third number: \"));\n",
    "c = f()\n",
    "print(\"The max is :  \",c)"
   ]
  },
  {
   "cell_type": "code",
   "execution_count": 54,
   "id": "3ecf96ab",
   "metadata": {},
   "outputs": [
    {
     "name": "stdout",
     "output_type": "stream",
     "text": [
      "Enter first number: 458\n",
      "Even no 1\n",
      "Odd no 1\n",
      "Even no 2\n",
      "None\n"
     ]
    }
   ],
   "source": [
    "#Write a function which counts the even digits  and odd digits in the number entered by user.\n",
    "def digit():\n",
    "    n=input(\"Enter first number: \")\n",
    "    e = 0\n",
    "    o = 0\n",
    "    for i in n:\n",
    "        i=int(i)\n",
    "        if i%2==0:\n",
    "            e = e + 1\n",
    "            print(\"Even no\",e)\n",
    "        else:\n",
    "            o = o + 1\n",
    "            print(\"Odd no\",o)\n",
    "a = digit()\n",
    "print(a)"
   ]
  },
  {
   "cell_type": "code",
   "execution_count": 6,
   "id": "2fcf97ca",
   "metadata": {},
   "outputs": [
    {
     "name": "stdout",
     "output_type": "stream",
     "text": [
      "Enter first number: 4\n",
      "Enter first number: 5\n",
      "Enter first number: 6\n",
      "The Largest no among these is  6\n",
      "None\n"
     ]
    }
   ],
   "source": [
    "##Q.6 Write a function which computes maximum of three numbers\n",
    "def maxi():\n",
    "    if a>=b and a>=c:\n",
    "        print(\"The Largest no among these is \",a)\n",
    "    elif b>=a and b>=c:\n",
    "        print(\"The Largest no among these is \",b)\n",
    "    else:\n",
    "        print(\"The Largest no among these is \",c)\n",
    "a=input(\"Enter first number: \")\n",
    "b=input(\"Enter first number: \")\n",
    "c=input(\"Enter first number: \")\n",
    "d = maxi()\n",
    "print(d)"
   ]
  },
  {
   "cell_type": "code",
   "execution_count": 7,
   "id": "2e4e58a3",
   "metadata": {},
   "outputs": [
    {
     "name": "stdout",
     "output_type": "stream",
     "text": [
      "Enter the no  :  4\n",
      "Enter the no  :  2\n",
      "The suum of 2 no are  :   6\n",
      "After adding 5 no is  :  11\n"
     ]
    }
   ],
   "source": [
    "##Create an outer function that will accept two parameters, a and b .Create an inner function inside an \n",
    "#outer function that will calculate the addition of a and b .At last, an outer function will add 5 into addition and return it\n",
    "def add():\n",
    "    a = int(input(\"Enter the no  :  \"))\n",
    "    b = int(input(\"Enter the no  :  \"))\n",
    "    c = a+b\n",
    "    return c\n",
    "d = add()\n",
    "print(\"The suum of 2 no are  :  \",d)\n",
    "e = 5+d\n",
    "print(\"After adding 5 no is  : \",e)\n"
   ]
  },
  {
   "cell_type": "code",
   "execution_count": 20,
   "id": "5491d671",
   "metadata": {},
   "outputs": [
    {
     "name": "stdout",
     "output_type": "stream",
     "text": [
      "Enter the no  :  4,58,6\n",
      "Even no is  4 0\n",
      "Even no is  58 0\n",
      "Even no is  6 0\n",
      "None\n"
     ]
    }
   ],
   "source": [
    "## Write a function which counts the even digits  and odd digits in the number entered by user.\n",
    "def even():\n",
    "    a = input(\"Enter the no  :  \").split(\",\")\n",
    "    c = 0\n",
    "    for i in a:\n",
    "        i=int(i)\n",
    "        if i%2==0:\n",
    "            print(\"Even no is \",i,a.count(i))\n",
    "        else:\n",
    "            print(\"odd is \",i,a.count(i))\n",
    "            c=c+1\n",
    "d = even()\n",
    "print(d)\n",
    "        \n",
    "    "
   ]
  },
  {
   "cell_type": "code",
   "execution_count": 26,
   "id": "093c4a0c",
   "metadata": {},
   "outputs": [
    {
     "name": "stdout",
     "output_type": "stream",
     "text": [
      "Enter the name  :  n\n",
      "Enter the Marks of subject English  :  85\n",
      "Enter the Marks of subject Maths   :  95\n",
      "Enter the Marks of subject Python   :  35\n",
      "Total marks of the subjects are   :  215\n",
      "The avg of marks are :   71.66666666666667\n"
     ]
    }
   ],
   "source": [
    "##Write a function which takes the students details as name,marks of 3 subjects and display total marks and his percentage.\n",
    "def marks():\n",
    "    name = input(\"Enter the name  :  \")\n",
    "    m1 = int(input(\"Enter the Marks of subject English  :  \"))\n",
    "    m2 = int(input(\"Enter the Marks of subject Maths   :  \"))\n",
    "    m3 = int(input(\"Enter the Marks of subject Python   :  \"))\n",
    "    total = m1+m2+m3\n",
    "    return total\n",
    "a = marks()\n",
    "print(\"Total marks of the subjects are   : \",a)\n",
    "avg = (a/300)*100\n",
    "print(\"The avg of marks are :  \",avg)\n",
    "    "
   ]
  },
  {
   "cell_type": "code",
   "execution_count": 28,
   "id": "83e2a4a4",
   "metadata": {},
   "outputs": [
    {
     "name": "stdout",
     "output_type": "stream",
     "text": [
      "Enter the name  :  notin\n",
      "Enter the name  :  25\n",
      "YEs you can vote\n",
      "None\n"
     ]
    }
   ],
   "source": [
    "#Write a function to tell user if he/she is able to vote or not.\n",
    "def vote():\n",
    "    if age<18:\n",
    "        print(\"Not be able to vote\")\n",
    "    else:\n",
    "        print(\"YEs you can vote\")\n",
    "name = input(\"Enter the name  :  \")\n",
    "age = int(input(\"Enter the name  :  \"))\n",
    "a = vote()\n",
    "print(a)\n",
    "            \n",
    "    \n",
    "    \n",
    "    \n",
    "    "
   ]
  },
  {
   "cell_type": "code",
   "execution_count": 32,
   "id": "555dd13f",
   "metadata": {},
   "outputs": [
    {
     "name": "stdout",
     "output_type": "stream",
     "text": [
      "Enter the no  :  5\n",
      "Enter the no  :  5\n",
      "Area of a rectangle is  :   25\n",
      "perimeter of a rectangle is  :   20\n",
      "None\n"
     ]
    }
   ],
   "source": [
    "#Write a function to calculate area and perimeter of a rectangle. A = l × w   P = 2(l + w)\n",
    "def calculate():\n",
    "    area = l*w\n",
    "    print(\"Area of a rectangle is  :  \",area)\n",
    "    peri = 2*(l+w)\n",
    "    print(\"perimeter of a rectangle is  :  \",peri)\n",
    "    \n",
    "l = int(input(\"Enter the no  :  \"))\n",
    "w = int(input(\"Enter the no  :  \"))\n",
    "d = calculate()\n",
    "print(d)\n"
   ]
  },
  {
   "cell_type": "code",
   "execution_count": 34,
   "id": "13d9ccbb",
   "metadata": {},
   "outputs": [
    {
     "name": "stdout",
     "output_type": "stream",
     "text": [
      "Enter the no  :  4\n",
      "Area of circle is  :   50.24\n",
      "circumference of a circle is  :   25.12\n",
      "None\n"
     ]
    }
   ],
   "source": [
    "#Write a function to calculate area and circumference of a circle. c = 2πr and A = πr² \n",
    "def calculate():\n",
    "    area = 3.14*r*r\n",
    "    print(\"Area of circle is  :  \",area)\n",
    "    circum = 2*3.14*r\n",
    "    print(\"circumference of a circle is  :  \",circum)\n",
    "    \n",
    "r = int(input(\"Enter the no  :  \"))\n",
    "d = calculate()\n",
    "print(d)"
   ]
  },
  {
   "cell_type": "code",
   "execution_count": 38,
   "id": "2df6a823",
   "metadata": {},
   "outputs": [
    {
     "name": "stdout",
     "output_type": "stream",
     "text": [
      "multiplication of all the elements in the list  is  :   480\n"
     ]
    }
   ],
   "source": [
    " #Write a function to calculate the multiplication of all the elements in the list.\n",
    "def multiply():\n",
    "    m = 1\n",
    "    for i in l :\n",
    "        m = m*i\n",
    "    return m\n",
    "l = [2,8,6,5]\n",
    "a = multiply()\n",
    "print(\"multiplication of all the elements in the list  is  :  \",a)\n",
    "        "
   ]
  },
  {
   "cell_type": "code",
   "execution_count": null,
   "id": "f6922aa5",
   "metadata": {},
   "outputs": [],
   "source": []
  }
 ],
 "metadata": {
  "kernelspec": {
   "display_name": "Python 3 (ipykernel)",
   "language": "python",
   "name": "python3"
  },
  "language_info": {
   "codemirror_mode": {
    "name": "ipython",
    "version": 3
   },
   "file_extension": ".py",
   "mimetype": "text/x-python",
   "name": "python",
   "nbconvert_exporter": "python",
   "pygments_lexer": "ipython3",
   "version": "3.9.12"
  }
 },
 "nbformat": 4,
 "nbformat_minor": 5
}
