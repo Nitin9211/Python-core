{
 "cells": [
  {
   "cell_type": "markdown",
   "id": "5c9f7195",
   "metadata": {},
   "source": [
    "# Assignment\n"
   ]
  },
  {
   "cell_type": "code",
   "execution_count": 4,
   "id": "6097342b",
   "metadata": {},
   "outputs": [
    {
     "name": "stdout",
     "output_type": "stream",
     "text": [
      "Nitin\n",
      "panchal"
     ]
    }
   ],
   "source": [
    "print(\"Nitin\",end =\"\\npanchal\")"
   ]
  },
  {
   "cell_type": "code",
   "execution_count": 5,
   "id": "5975f45e",
   "metadata": {},
   "outputs": [
    {
     "name": "stdout",
     "output_type": "stream",
     "text": [
      "Enter the radius :   5\n",
      "Sum is 78.5\n"
     ]
    }
   ],
   "source": [
    "r = int(input(\"Enter the radius :   \"))\n",
    "p = 3.14\n",
    "su = r*r*p\n",
    "print(\"Sum is\",su)"
   ]
  },
  {
   "cell_type": "code",
   "execution_count": 6,
   "id": "05493775",
   "metadata": {},
   "outputs": [
    {
     "name": "stdout",
     "output_type": "stream",
     "text": [
      "Sum is:   904.3199999999998\n"
     ]
    }
   ],
   "source": [
    "r = 6\n",
    "a = 4/3\n",
    "p = 3.14\n",
    "su = a*p*r*r*r\n",
    "print(\"Sum is:  \",su)\n"
   ]
  },
  {
   "cell_type": "code",
   "execution_count": 7,
   "id": "1333040a",
   "metadata": {},
   "outputs": [
    {
     "name": "stdout",
     "output_type": "stream",
     "text": [
      "Enter the base of 4\n",
      "Enter the base of 5\n",
      "The sum is :  10.0\n"
     ]
    }
   ],
   "source": [
    "base = int(input(\"Enter the base of \"))\n",
    "height = int(input(\"Enter the base of \"))\n",
    "area = 1/2\n",
    "su = area*base*height\n",
    "print(\"The sum is : \",su)"
   ]
  },
  {
   "cell_type": "code",
   "execution_count": 10,
   "id": "5afd0d8b",
   "metadata": {},
   "outputs": [
    {
     "name": "stdout",
     "output_type": "stream",
     "text": [
      "Enter the no1  4\n",
      "Enter the no2 4\n",
      "Enter the no2 4\n",
      "The sum is : 36\n"
     ]
    }
   ],
   "source": [
    "#Write a Python program to calculate the sum of three equal numbers, and the result is the three times of their sum.\n",
    "no1 = int(input(\"Enter the no1  \"))\n",
    "no2 = int(input(\"Enter the no2 \"))\n",
    "no3 = int(input(\"Enter the no2 \"))\n",
    "if no1==no2==no3:\n",
    "    su = no1+no2+no3\n",
    "    su = su*3\n",
    "    print(\"The sum is :\",su)\n",
    "else:\n",
    "    print(\"Please enter same number \")\n"
   ]
  },
  {
   "cell_type": "code",
   "execution_count": 11,
   "id": "1dc3dc7d",
   "metadata": {},
   "outputs": [
    {
     "name": "stdout",
     "output_type": "stream",
     "text": [
      "The result is :  49\n"
     ]
    }
   ],
   "source": [
    "#Write a Python program to solve (x + y) * (x + y) \n",
    "x = 4\n",
    "y = 3\n",
    "result = (x + y) * (x + y)\n",
    "print(\"The result is : \",result)"
   ]
  },
  {
   "cell_type": "code",
   "execution_count": 12,
   "id": "522abfed",
   "metadata": {},
   "outputs": [
    {
     "name": "stdout",
     "output_type": "stream",
     "text": [
      "The simple interest is :  255000.0\n"
     ]
    }
   ],
   "source": [
    "#Write a Python program to compute the simple interest of a specified principal amount, rate of interest, and a number of years.Test Data : amt = 10000, int = 3.5, years = 7\n",
    "amount = 10000\n",
    "i = 3.5\n",
    "t = 7\n",
    "result =amount*(1+i*t)\n",
    "print(\"The simple interest is : \",result)"
   ]
  },
  {
   "cell_type": "code",
   "execution_count": 13,
   "id": "3551a9bd",
   "metadata": {},
   "outputs": [
    {
     "data": {
      "text/plain": [
       "246.2458"
      ]
     },
     "execution_count": 13,
     "metadata": {},
     "output_type": "execute_result"
    }
   ],
   "source": [
    "#Write a Python program to convert (parse) a string to Float or Integer.\n",
    "#Test Data : \"246.2458\"\n",
    "a = \"246.2458\"\n",
    "float(a)"
   ]
  },
  {
   "cell_type": "code",
   "execution_count": 14,
   "id": "38a01626",
   "metadata": {},
   "outputs": [
    {
     "data": {
      "text/plain": [
       "246"
      ]
     },
     "execution_count": 14,
     "metadata": {},
     "output_type": "execute_result"
    }
   ],
   "source": [
    "a = 246.2458\n",
    "int(a)\n"
   ]
  },
  {
   "cell_type": "code",
   "execution_count": 15,
   "id": "0b6fa237",
   "metadata": {},
   "outputs": [
    {
     "name": "stdout",
     "output_type": "stream",
     "text": [
      "Enter the no1  5\n",
      "Enter the no2 5\n",
      "The hypotenuse is :  7.0710678118654755\n"
     ]
    }
   ],
   "source": [
    "#Write a Python program to calculate the hypotenuse of a right angled triangle.\n",
    "#Formulae : c2 = a2 + b2,\n",
    "import math\n",
    "a = int(input(\"Enter the no1  \"))\n",
    "b = int(input(\"Enter the no2 \"))\n",
    "c = (a**2)+(b**2)\n",
    "print(\"The hypotenuse is : \",math.sqrt(c))"
   ]
  },
  {
   "cell_type": "code",
   "execution_count": 18,
   "id": "e4d6dbc6",
   "metadata": {},
   "outputs": [
    {
     "name": "stdout",
     "output_type": "stream",
     "text": [
      "The value of a is :  1\n",
      "The value of x is :  77\n"
     ]
    }
   ],
   "source": [
    "#Write a Python program to swap two variables\n",
    "#Test Data : a = 77, x= 1\n",
    "#Expected Output : a= 1, x=77\n",
    "a = 77\n",
    "x = 1\n",
    "z = a\n",
    "a = x\n",
    "x = z\n",
    "print(\"The value of a is : \", a)\n",
    "print(\"The value of x is : \",x)"
   ]
  },
  {
   "cell_type": "code",
   "execution_count": 19,
   "id": "74090371",
   "metadata": {},
   "outputs": [
    {
     "name": "stdout",
     "output_type": "stream",
     "text": [
      "Enter the no : 5\n",
      "The Cube is :  125\n"
     ]
    }
   ],
   "source": [
    "#Write a Python program to calculate the cube of any number which was taken by input.\n",
    "a = int(input(\"Enter the no : \"))\n",
    "cal = a**3\n",
    "print(\"The Cube is : \",cal)"
   ]
  },
  {
   "cell_type": "code",
   "execution_count": null,
   "id": "d388e2b1",
   "metadata": {},
   "outputs": [],
   "source": []
  }
 ],
 "metadata": {
  "kernelspec": {
   "display_name": "Python 3 (ipykernel)",
   "language": "python",
   "name": "python3"
  },
  "language_info": {
   "codemirror_mode": {
    "name": "ipython",
    "version": 3
   },
   "file_extension": ".py",
   "mimetype": "text/x-python",
   "name": "python",
   "nbconvert_exporter": "python",
   "pygments_lexer": "ipython3",
   "version": "3.9.12"
  }
 },
 "nbformat": 4,
 "nbformat_minor": 5
}
