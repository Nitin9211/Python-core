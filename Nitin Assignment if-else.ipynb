{
 "cells": [
  {
   "cell_type": "markdown",
   "id": "a09263b6",
   "metadata": {},
   "source": [
    "# Assignment if-else"
   ]
  },
  {
   "cell_type": "code",
   "execution_count": 3,
   "id": "9b695d8e",
   "metadata": {},
   "outputs": [
    {
     "name": "stdout",
     "output_type": "stream",
     "text": [
      "Enter the no :  0\n",
      "Zero no \n"
     ]
    }
   ],
   "source": [
    "# 1 write a program to check the number is positive or negative or zero\n",
    "n = int(input(\"Enter the no :  \"))\n",
    "if n>0:\n",
    "    print(\"Postive no \")\n",
    "elif n==0:\n",
    "    print(\"Zero no \")\n",
    "else:\n",
    "    print(\"Negative no \")"
   ]
  },
  {
   "cell_type": "code",
   "execution_count": 20,
   "id": "9a9e480a",
   "metadata": {},
   "outputs": [
    {
     "name": "stdout",
     "output_type": "stream",
     "text": [
      "Enter the no 105\n",
      "It is a magic no  105\n"
     ]
    }
   ],
   "source": [
    "#WAP to take a number from user and check if number is divisble by 7 or not, also check if it is divisble by 5 or not ,\n",
    "#and if the no is divisible by both 5 and 7 print as magic no'\n",
    "n = int(input(\"Enter the no \"))\n",
    "if n%7==0 and n%5==0:\n",
    "    print(\"It is a magic no \", n)\n",
    "elif n%7==0:\n",
    "    print(\"It is divisible 7 \",n)\n",
    "elif n%5==0:\n",
    "    print(\"IT is divisible by 5\",n)\n",
    "else:\n",
    "    print(\"number is not divisible\")"
   ]
  },
  {
   "cell_type": "code",
   "execution_count": 27,
   "id": "ea0b3131",
   "metadata": {},
   "outputs": [
    {
     "name": "stdout",
     "output_type": "stream",
     "text": [
      "Enter the no 49\n",
      "It is odd no \n",
      "Cube of 49 is 117649\n"
     ]
    }
   ],
   "source": [
    "#WAP to check wether the entered number is odd or even if it is odd then also check it is divisble by 7 \n",
    "#if it is divisble by 7 then compute its cube'''\n",
    "n = int(input(\"Enter the no \"))\n",
    "if n%2==0:\n",
    "    print(\"It is even no \")\n",
    "elif n%2!=0:\n",
    "    print(\"It is odd no \")\n",
    "    if n%7==0:\n",
    "        print(\"Cube of\",n,\"is\",n**3)\n",
    "    else:\n",
    "        print(\"Not divisible\")"
   ]
  },
  {
   "cell_type": "code",
   "execution_count": 29,
   "id": "1cd5cd59",
   "metadata": {},
   "outputs": [
    {
     "name": "stdout",
     "output_type": "stream",
     "text": [
      "Enter the username :  pramod123\n",
      "Enter the passcode :  123456789\n",
      "Welcome to the Website\n"
     ]
    }
   ],
   "source": [
    "#write a program to take a username and password from the user and if \n",
    "#it matches with 'pramod123' and '123456789'. welcome to the website else report invalid username and password\n",
    "username = input(\"Enter the username :  \")\n",
    "password = input(\"Enter the passcode :  \")\n",
    "if username==\"pramod123\" and password==\"123456789\":\n",
    "    print(\"Welcome to the Website\")\n",
    "else: \n",
    "    print(\"Invalid password\")"
   ]
  },
  {
   "cell_type": "code",
   "execution_count": 34,
   "id": "543774e4",
   "metadata": {},
   "outputs": [
    {
     "name": "stdout",
     "output_type": "stream",
     "text": [
      "Enter the no to check the length of numbers entered :  654\n",
      "Three digit no  654\n"
     ]
    }
   ],
   "source": [
    "#  The given number is of one digited or two digited or three digited or more than three digited\n",
    "#INPUT: 945 \n",
    "#OUTPUT: Three digit number\n",
    "\n",
    "n = input(\"Enter the no to check the length of numbers entered :  \")\n",
    "l = len(n)\n",
    "if l==1:\n",
    "    print(\"One digit no \",n)\n",
    "elif l==2:\n",
    "    print(\"Two digit no \",n)\n",
    "elif l==3:\n",
    "    print(\"Three digit no \",n)\n",
    "else:\n",
    "    print(\"It is a more than 3 digit number \",n)"
   ]
  },
  {
   "cell_type": "code",
   "execution_count": 37,
   "id": "9eb9f9e6",
   "metadata": {},
   "outputs": [
    {
     "name": "stdout",
     "output_type": "stream",
     "text": [
      "Enter the no to check the length of numbers entered :  5\n",
      "Enter the no to check the length of numbers entered :  2\n",
      "Enter the no to check the length of numbers entered :  1\n",
      "The Largest no among these is  5\n"
     ]
    }
   ],
   "source": [
    "#Write a python program to take the three numbers as input and find the largest number.\n",
    "a = input(\"Enter the no to check the length of numbers entered :  \")\n",
    "b = input(\"Enter the no to check the length of numbers entered :  \")\n",
    "c = input(\"Enter the no to check the length of numbers entered :  \")\n",
    "if a>=b and a>=c:\n",
    "    print(\"The Largest no among these is \",a)\n",
    "elif b>=a and b>=c:\n",
    "    print(\"The Largest no among these is \",b)\n",
    "else:\n",
    "    print(\"The Largest no among these is \",c)\n",
    "    "
   ]
  },
  {
   "cell_type": "code",
   "execution_count": 41,
   "id": "c57a28db",
   "metadata": {},
   "outputs": [
    {
     "name": "stdout",
     "output_type": "stream",
     "text": [
      "Enter the no  :  8\n",
      "Enter the no  :  5\n",
      "Enter the no  :  10\n",
      "Hurry!! Yes they can form a Triangle\n"
     ]
    }
   ],
   "source": [
    "#Write a python  program that reads three positive numbers a, b, c\n",
    "#and determines whether they can form the three sides of a triangle.\n",
    "a = input(\"Enter the no  :  \")\n",
    "b = input(\"Enter the no  :  \")\n",
    "c = input(\"Enter the no  :  \")\n",
    "if a+b>c:\n",
    "    print(\"Hurry!! Yes they can form a Triangle\")\n",
    "else:\n",
    "    print(\"Oops!! They cannot form a Triangle please check again\")"
   ]
  },
  {
   "cell_type": "code",
   "execution_count": 56,
   "id": "1202ecdd",
   "metadata": {},
   "outputs": [
    {
     "name": "stdout",
     "output_type": "stream",
     "text": [
      "Enter the no  :  8\n",
      "Enter the no  :  8\n",
      "Enter the no  :  4\n",
      "It is Right angle triangle\n"
     ]
    }
   ],
   "source": [
    "#write a python to check  Whether the triangle will be an obtuse-angle, or a right-angle or an acute-angle triangle.\n",
    "#HINT: \n",
    "#In Right angle triangle the square of the length of the longest side of a triangle is equal \n",
    "#to the sum of the squares of the other two sides \n",
    "\n",
    "#In Obtuse Triangle  the sum of the squares of the two shorter sides of a triangle is \n",
    "#smaller than the square of the longest side, the triangle is obtuse.\n",
    "\n",
    "#In Acute angle triangle the sum of the squares of the two shorter sides of a triangle is \n",
    "#greater than the square of the longest side, the triangle is acute\n",
    "\n",
    "a = int(input(\"Enter the no  :  \"))\n",
    "b = int(input(\"Enter the no  :  \"))\n",
    "c = int(input(\"Enter the no  :  \"))\n",
    "d = a+b\n",
    "e = d**2\n",
    "if a+b==c**2:\n",
    "    print(\"It is Right angle triangle\")\n",
    "elif e<c**2:\n",
    "    print(\"It is an obtuse triangle\")\n",
    "else:\n",
    "    print(\"It is a Acute triangle\")"
   ]
  },
  {
   "cell_type": "code",
   "execution_count": 62,
   "id": "c40a66ce",
   "metadata": {},
   "outputs": [
    {
     "name": "stdout",
     "output_type": "stream",
     "text": [
      "Enter the no  :  4\n",
      "Enter the no  :  4\n",
      "Enter the no  :  5\n",
      "It is isosceles triangle\n"
     ]
    }
   ],
   "source": [
    "#Write a python program  to check the triangle , is equilateral, isosceles, or scalene.\n",
    "#HINT:\n",
    "#In Equilateral triangle all three sides are equal\n",
    "#In isosceles triangle any two side are equal\n",
    "#In scalene triangle all three side are unequal\n",
    "a = int(input(\"Enter the no  :  \"))\n",
    "b = int(input(\"Enter the no  :  \"))\n",
    "c = int(input(\"Enter the no  :  \"))\n",
    "if a==b==c:\n",
    "    print(\"It is an Equilateral Triangle\")\n",
    "elif a!=b!=c:\n",
    "    print(\"It is a scalene triangle\")\n",
    "else:\n",
    "    print(\"It is isosceles triangle\")"
   ]
  },
  {
   "cell_type": "code",
   "execution_count": 66,
   "id": "5c4dfd08",
   "metadata": {},
   "outputs": [
    {
     "name": "stdout",
     "output_type": "stream",
     "text": [
      "enter the number :   8\n",
      "enter the number :   5\n",
      "enter the number :   5\n",
      "enter the number :   2\n",
      "enter the number :   6\n",
      "enter the number :   3\n",
      "43\n"
     ]
    }
   ],
   "source": [
    "# A function f is defined as follows :\n",
    " #       f(x)  =    ax3 – bx2 + cx –d,                  if x > k\n",
    " #       f(x)  =    0,                                   if x = k\n",
    " #       f(x)  =    -ax3 + bx2 – cx +d,                 if x < k\n",
    "    \n",
    "x=int(input(\"enter the number :   \"))\n",
    "k=int(input(\"enter the number :   \"))\n",
    "a=int(input(\"enter the number :   \"))\n",
    "b=int(input(\"enter the number :   \"))\n",
    "c=int(input(\"enter the number :   \"))\n",
    "d=int(input(\"enter the number :   \"))\n",
    "if x>k:\n",
    "    print((a*b)*3-(b*x)*2+c*x-d)\n",
    "elif x==k:\n",
    "    print(0)\n",
    "elif x<k:\n",
    "    print((-a*x)*3+(b*x)*2-c*x+d)\n",
    "else:\n",
    "    print(\"Retry again!!\")"
   ]
  },
  {
   "cell_type": "code",
   "execution_count": 72,
   "id": "83057341",
   "metadata": {},
   "outputs": [
    {
     "name": "stdout",
     "output_type": "stream",
     "text": [
      "Enter your past meter rating :  8500\n",
      "The bill to be paid is :   16700\n"
     ]
    }
   ],
   "source": [
    "#The Paschim Gujarat Vij Company Ltd. computes the electricity bill based on the following table:\n",
    "#Units Consumed\n",
    "\n",
    "#Ask user to enter the Past meter reading and current meter reading.\n",
    "#Find the units consumed.\n",
    "#Compute the bill according to given matrix.\n",
    "\n",
    "pastmetr = int(input(\"Enter your past meter rating :  \"))\n",
    "if pastmetr<=100:\n",
    "    bill = pastmetr*.5\n",
    "    print(\"The bill to be paid is :  \",bill)\n",
    "elif pastmetr>=100 and pastmetr<=200:\n",
    "    bill = 50+(1*(pastmetr-100))\n",
    "    print(\"The bill to be paid is :  \",bill)\n",
    "elif pastmetr>=200 and pastmetr<=300:\n",
    "    bill = 150+(1.5*(pastmetr-200))\n",
    "    print(\"The bill to be paid is :  \",bill)\n",
    "elif pastmetr>300:\n",
    "    bill = 300+(2*(pastmetr-300))\n",
    "    print(\"The bill to be paid is :  \",bill)\n",
    "else:\n",
    "    print(\"We cannot generate your bill\")"
   ]
  },
  {
   "cell_type": "code",
   "execution_count": 29,
   "id": "c4d05515",
   "metadata": {},
   "outputs": [
    {
     "name": "stdout",
     "output_type": "stream",
     "text": [
      "Please select your choice sir 1, 2, or 3 :  1\n",
      "You have selected Battery-based toys with 10% dis\n",
      "Enter your bill :  1500\n",
      "Discount offered on this product is 150.0\n",
      "Your Total bill with discount is 1350.0\n"
     ]
    }
   ],
   "source": [
    "select = input(\"Please select your choice sir 1, 2, or 3 :  \")\n",
    "if select==\"1\":\n",
    "    print(\"You have selected Battery-based toys with 10% dis\")\n",
    "    bill = int(input(\"Enter your bill :  \"))\n",
    "    if bill>1000:\n",
    "        disc = bill*0.10\n",
    "        print(\"Discount offered on this product is\",disc)\n",
    "        print(\"Your Total bill with discount is\",bill-disc)\n",
    "    else:\n",
    "        print(\"Your bill is :  \",bill)\n",
    "elif select==\"3\":\n",
    "    print(\"You have selected Electrical-based toys with 10% dis\")\n",
    "    bill = int(input(\"Enter your bill :  \"))\n",
    "    if bill>500:\n",
    "        disc = bill*0.10\n",
    "        print(\"Discount offered on this product is\",disc)\n",
    "        print(\"Your Total bill with discount is\",bill-disc)\n",
    "    else:\n",
    "        print(\"Your bill is :  \",bill)\n",
    "elif select==\"2\":\n",
    "    print(\"You have selected Key-based toys with 5% dis\")\n",
    "    bill = int(input(\"Enter your bill :  \"))\n",
    "    if bill>100:\n",
    "        disc = bill*0.05\n",
    "        print(\"Discount offered on this product is\",disc)\n",
    "        print(\"Your Total bill with discount is\",bill-disc)\n",
    "    else:\n",
    "        print(\"Your bill is :  \",bill)\n",
    "else:\n",
    "    print(\"Invalid no\")"
   ]
  },
  {
   "cell_type": "code",
   "execution_count": 28,
   "id": "acd11c54",
   "metadata": {},
   "outputs": [
    {
     "name": "stdout",
     "output_type": "stream",
     "text": [
      "Hello sir what would you like to have pizza, burger, hotdog :   burger\n",
      "Hello sir what would you like to have beer, rum, scotch  :   rum\n",
      "Hello sir what would you like to single layer cheese and double layer cheese :   single layer cheese\n",
      "Your burger bill is   120\n",
      "Your New bill with drink is   250\n",
      "!!Thank you so much visit again have a good day!! \n"
     ]
    }
   ],
   "source": [
    "menu = input(\"Hello sir what would you like to have pizza, burger, hotdog :   \")\n",
    "drinks = input(\"Hello sir what would you like to have beer, rum, scotch  :   \")\n",
    "if menu==\"pizza\":\n",
    "    toppings = input(\"Hello sir what would you like to have panner, mushroom, onion :   \")\n",
    "    if toppings==\"panner\":\n",
    "        bill=100+50\n",
    "        print(\"Your Pizza bill is  \",bill)\n",
    "    elif toppings==\"mushroom\":\n",
    "        bill=100+20\n",
    "        print(\"Your Pizza bill is  \",bill)\n",
    "    elif toppings==\"onion\":\n",
    "        bill=100+10\n",
    "        print(\"Your Pizza bill is   \",bill)\n",
    "elif menu==\"burger\":\n",
    "    topping = input(\"Hello sir what would you like to single layer cheese and double layer cheese :   \")\n",
    "    if topping==\"single layer cheese\":\n",
    "        bill=80+40\n",
    "        print(\"Your burger bill is  \",bill)\n",
    "    elif topping==\"double layer cheese\":\n",
    "        bill=100+20\n",
    "        print(\"Your burger bill is  \",bill)\n",
    "elif menu==\"hotdog\":\n",
    "    topping = input(\"Hello sir what would you like to single layer cheese and double layer cheese :   \")\n",
    "    if topping==\"single layer cheese\":\n",
    "        bill=80+60\n",
    "        print(\"Your hotdog bill is  \",bill)\n",
    "    elif topping==\"double layer cheese\":\n",
    "        bill=80+70\n",
    "        print(\"Your hotdog bill is  \",bill)\n",
    "else:\n",
    "    print(\"Sorry sir we dont have this:  \")\n",
    "if drinks==\"beer\":\n",
    "        drinksbill=110\n",
    "        Newbill = drinksbill+bill\n",
    "        print(\"Your New bill with drink is  \",Newbill)\n",
    "elif drinks==\"rum\":\n",
    "    drinksbill=130\n",
    "    Newbill = drinksbill+bill\n",
    "    print(\"Your New bill with drink is  \",Newbill)\n",
    "elif drinks==\"scotch\":\n",
    "    drinksbill=160\n",
    "    Newbill = drinksbill+bill\n",
    "    print(\"Your New bill with drink is  \",Newbill)\n",
    "elif drinks==\"Nothing\":\n",
    "    print(bill)\n",
    "print(\"!!Thank you so much visit again have a good day!! \")\n",
    "        \n"
   ]
  },
  {
   "cell_type": "code",
   "execution_count": null,
   "id": "2d1503b0",
   "metadata": {},
   "outputs": [],
   "source": []
  },
  {
   "cell_type": "code",
   "execution_count": null,
   "id": "b1fbd694",
   "metadata": {},
   "outputs": [],
   "source": []
  }
 ],
 "metadata": {
  "kernelspec": {
   "display_name": "Python 3 (ipykernel)",
   "language": "python",
   "name": "python3"
  },
  "language_info": {
   "codemirror_mode": {
    "name": "ipython",
    "version": 3
   },
   "file_extension": ".py",
   "mimetype": "text/x-python",
   "name": "python",
   "nbconvert_exporter": "python",
   "pygments_lexer": "ipython3",
   "version": "3.9.12"
  }
 },
 "nbformat": 4,
 "nbformat_minor": 5
}
